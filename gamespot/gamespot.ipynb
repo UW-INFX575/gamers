{
 "cells": [
  {
   "cell_type": "code",
   "execution_count": 1,
   "metadata": {
    "collapsed": false
   },
   "outputs": [
    {
     "ename": "AttributeError",
     "evalue": "'NoneType' object has no attribute 'find'",
     "output_type": "error",
     "traceback": [
      "\u001b[1;31m---------------------------------------------------------------------------\u001b[0m",
      "\u001b[1;31mAttributeError\u001b[0m                            Traceback (most recent call last)",
      "\u001b[1;32m<ipython-input-1-25e0d5a4a0e8>\u001b[0m in \u001b[0;36m<module>\u001b[1;34m()\u001b[0m\n\u001b[0;32m     71\u001b[0m \u001b[1;33m\u001b[0m\u001b[0m\n\u001b[0;32m     72\u001b[0m \u001b[1;32mfor\u001b[0m \u001b[0mlink\u001b[0m \u001b[1;32min\u001b[0m \u001b[0marticle_links\u001b[0m\u001b[1;33m:\u001b[0m\u001b[1;33m\u001b[0m\u001b[0m\n\u001b[1;32m---> 73\u001b[1;33m     \u001b[0mauthor\u001b[0m\u001b[1;33m,\u001b[0m \u001b[0mdate\u001b[0m\u001b[1;33m,\u001b[0m \u001b[0mtitle\u001b[0m\u001b[1;33m,\u001b[0m \u001b[0mreview\u001b[0m \u001b[1;33m=\u001b[0m \u001b[0mget_review_info\u001b[0m\u001b[1;33m(\u001b[0m\u001b[0mlink\u001b[0m\u001b[1;33m)\u001b[0m\u001b[1;33m\u001b[0m\u001b[0m\n\u001b[0m\u001b[0;32m     74\u001b[0m     \u001b[0mauthors\u001b[0m\u001b[1;33m.\u001b[0m\u001b[0mappend\u001b[0m\u001b[1;33m(\u001b[0m\u001b[0mauthor\u001b[0m\u001b[1;33m)\u001b[0m\u001b[1;33m\u001b[0m\u001b[0m\n\u001b[0;32m     75\u001b[0m     \u001b[0mdates\u001b[0m\u001b[1;33m.\u001b[0m\u001b[0mappend\u001b[0m\u001b[1;33m(\u001b[0m\u001b[0mdate\u001b[0m\u001b[1;33m)\u001b[0m\u001b[1;33m\u001b[0m\u001b[0m\n",
      "\u001b[1;32m<ipython-input-1-25e0d5a4a0e8>\u001b[0m in \u001b[0;36mget_review_info\u001b[1;34m(article_url)\u001b[0m\n\u001b[0;32m     30\u001b[0m \u001b[1;33m\u001b[0m\u001b[0m\n\u001b[0;32m     31\u001b[0m     \u001b[0minfo\u001b[0m \u001b[1;33m=\u001b[0m \u001b[0msoup\u001b[0m\u001b[1;33m.\u001b[0m\u001b[0mfind\u001b[0m\u001b[1;33m(\u001b[0m\u001b[1;34m\"h3\"\u001b[0m\u001b[1;33m,\u001b[0m \u001b[1;33m{\u001b[0m\u001b[1;34m\"class\"\u001b[0m\u001b[1;33m:\u001b[0m \u001b[1;34m\"news-byline\"\u001b[0m\u001b[1;33m}\u001b[0m\u001b[1;33m)\u001b[0m\u001b[1;33m\u001b[0m\u001b[0m\n\u001b[1;32m---> 32\u001b[1;33m     \u001b[0mauthor_name\u001b[0m \u001b[1;33m=\u001b[0m \u001b[0minfo\u001b[0m\u001b[1;33m.\u001b[0m\u001b[0mfind\u001b[0m\u001b[1;33m(\u001b[0m\u001b[1;34m\"a\"\u001b[0m\u001b[1;33m)\u001b[0m\u001b[1;33m\u001b[0m\u001b[0m\n\u001b[0m\u001b[0;32m     33\u001b[0m     \u001b[0mauthor_name\u001b[0m \u001b[1;33m=\u001b[0m \u001b[0mauthor_name\u001b[0m\u001b[1;33m.\u001b[0m\u001b[0mtext\u001b[0m\u001b[1;33m\u001b[0m\u001b[0m\n\u001b[0;32m     34\u001b[0m \u001b[1;33m\u001b[0m\u001b[0m\n",
      "\u001b[1;31mAttributeError\u001b[0m: 'NoneType' object has no attribute 'find'"
     ]
    }
   ],
   "source": [
    "# import libraries\n",
    "import re\n",
    "import os\n",
    "from bs4 import BeautifulSoup\n",
    "from urllib2 import urlopen\n",
    "from time import sleep\n",
    "import unicodedata\n",
    "import csv\n",
    "import string\n",
    "\n",
    "def make_soup(url):\n",
    "    html = urlopen(url).read()\n",
    "    return BeautifulSoup(html, \"lxml\")\n",
    "\n",
    "def get_page_links(base_url):\n",
    "    for i in range(22,27):\n",
    "        page = base_url+'/?page='+str(i)\n",
    "        page_links.append(page)\n",
    "    return True\n",
    "\n",
    "def get_article_links(page_url):\n",
    "    soup = make_soup(page_url)   \n",
    "    links = soup.find_all(\"a\", {\"class\": \"js-event-tracking\"})                \n",
    "    for a in links:\n",
    "        article_links.append(BASE_URL + a['href'])           \n",
    "    return True\n",
    "\n",
    "def get_review_info(article_url):    \n",
    "    soup = make_soup(article_url) \n",
    "    \n",
    "    info = soup.find(\"h3\", {\"class\": \"news-byline\"})\n",
    "    author_name = info.find(\"a\")\n",
    "    author_name = author_name.text\n",
    "    \n",
    "    written_date = info.find(\"time\")\n",
    "    written_date = written_date.text\n",
    "    \n",
    "    review_title = soup.find(\"title\")\n",
    "    review_title = review_title.text\n",
    "    \n",
    "    links = soup.find(\"section\", {\"class\": \"article-body typography-format \"})     \n",
    "    review_text = links.find_all(\"p\") \n",
    "    reviews = []\n",
    "    for p in review_text:\n",
    "        text = p.text        \n",
    "        text = unicodedata.normalize('NFKD', text).encode('ascii','ignore')\n",
    "        reviews.append(text) \n",
    "    return author_name, written_date, review_title, reviews\n",
    "\n",
    "# set base url for scraping\n",
    "BASE_URL = \"http://www.gamespot.com\"\n",
    "SUB_BASE_URL = \"http://www.gamespot.com/reviews\" \n",
    "\n",
    "# generate links for each page\n",
    "page_links = []\n",
    "# page_links.append('http://www.gamespot.com/reviews/')\n",
    "\n",
    "# generate following pages\n",
    "get_page_links(SUB_BASE_URL)\n",
    "\n",
    "# generate article links for each page\n",
    "article_links = []\n",
    "for l in page_links:\n",
    "    get_article_links(l)\n",
    "\n",
    "authors = []\n",
    "dates = []\n",
    "titles = []\n",
    "urls = []\n",
    "review_text = []\n",
    "\n",
    "for link in article_links:\n",
    "    author, date, title, review = get_review_info(link)\n",
    "    authors.append(author)\n",
    "    dates.append(date)\n",
    "    titles.append(title)\n",
    "    urls.append(link)\n",
    "    review_text.append(review)\n",
    "\n",
    "GAMESPOT = authors, dates, titles, urls, review_text\n",
    "\n",
    "with open(\"GAMESPOT.csv\", \"wb\") as f:\n",
    "    writer = csv.writer(f)\n",
    "    for row in GAMESPOT:\n",
    "        writer.writerow(row)"
   ]
  },
  {
   "cell_type": "code",
   "execution_count": null,
   "metadata": {
    "collapsed": true
   },
   "outputs": [],
   "source": []
  }
 ],
 "metadata": {
  "kernelspec": {
   "display_name": "Python 2",
   "language": "python",
   "name": "python2"
  },
  "language_info": {
   "codemirror_mode": {
    "name": "ipython",
    "version": 2
   },
   "file_extension": ".py",
   "mimetype": "text/x-python",
   "name": "python",
   "nbconvert_exporter": "python",
   "pygments_lexer": "ipython2",
   "version": "2.7.9"
  }
 },
 "nbformat": 4,
 "nbformat_minor": 0
}
