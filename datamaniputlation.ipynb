{
 "cells": [
  {
   "cell_type": "code",
   "execution_count": 2,
   "metadata": {
    "collapsed": true
   },
   "outputs": [],
   "source": [
    "import pandas as pd"
   ]
  },
  {
   "cell_type": "code",
   "execution_count": 4,
   "metadata": {
    "collapsed": false
   },
   "outputs": [],
   "source": [
    "df = pd.read_csv('results.csv')"
   ]
  },
  {
   "cell_type": "code",
   "execution_count": 16,
   "metadata": {
    "collapsed": false
   },
   "outputs": [
    {
     "data": {
      "text/plain": [
       "1359    2013-10-31 00:00:00\n",
       "Name: date, dtype: object"
      ]
     },
     "execution_count": 16,
     "metadata": {},
     "output_type": "execute_result"
    }
   ],
   "source": [
    "df.date[-2:-1]"
   ]
  },
  {
   "cell_type": "code",
   "execution_count": 19,
   "metadata": {
    "collapsed": false
   },
   "outputs": [
    {
     "data": {
      "text/plain": [
       "'[\\'Crimson Dragon is an on-rails shooter that revives the cherished Panzer Dragoon series under a new name, fitted with light RPG elements and a dash of asynchronous co-op. Unfortunately, these added systems dont make a meaningful impact on the game at large, and the genres focused action is perverted by wildly concocted paths that send you and the camera into a tizzy. This, coupled with unusually aggressive enemies, makes Crimson Dragon a frustrating experience. There are rare, fleeting moments of greatness near the end of the campaign, but you have to fight the urge to put the controller down if you hope to catch a glimpse of them.\\', \"Plot is not Crimson Dragon\\'s strong suit either, but it suffices in so much as it provides an explanation for your ability and need to command dragons. Not long after the colonization of the planet Draco, the inception of the Crimsonscale virus wreaked havoc on the human population and enraged the indigenous wildlife. Some people, dubbed the Seekers, were immune to the Virus. As one of the lucky few, it\\'s your job to fight back against the rising tide, and investigate the cause of the Crimsonscale outbreak.\", \"All levels consist of phases that last from one to five minutes apiece. You ride on the back of dragons, fighting swarms of enemies, collecting items, and occasionally facing a boss or a strong group of variations on common enemies. For each phase that you complete, you\\'re rewarded based on your performance with credits or items. Credits can be used for many purposes: acquiring new dragons, hiring AI-driven wingmen, undertaking missions, and purchasing extra-life-like revival jewels. Regardless of how many enemies you shoot down or items you collect, the most important thing is that you survive.\", \"You can attempt to better your chances by recruiting other players\\' dragons from the game\\'s leaderboard, but these wingmen never make much of an impact. Granted, this fluctuates slightly based on the availability of high-level dragons and your ability to afford their contract, but the difference between low- and high-level wingmen is hard to recognize in practice. Regardless of whos watching your back, you\\'re still the primary target. The most any wingman ever brings to the table is a powerful but limited-use attack that hits every enemy and recharges your health. Its helpful, but theres no reason it couldnt have been a function of your dragon to begin with. At best, wingmen provide you with a last-ditch attack, but at worst, they instill a false sense of security.\", \\'Though the game tries to instill confidence by offering backup, Crimson Dragons enemies are ever relentless, even on the easiest difficulty setting. Standard enemies fire dozens of projectiles at once, forcing you to constantly barrel roll to avoid impact in the face of large swarms. In some levels, it feels like all you do is bash the shoulder buttons to barrel roll, and simultaneously hammer on the trigger to fit an attack or two in between rolls.\\', \"Ostensibly, your ability to shoot down enemies and minimize damage relies on elemental relationships, which you can alter prior to heading into battle. However, though you\\'re given a readout of the balance of your abilities and enemies resistances prior to starting a mission, choosing the right dragon and assigning the proper abilities rarely makes a meaningful difference. Likewise, your dragons can evolve twice, but these are mostly cosmetic changes, with an ever-so-slight bump in base stats.\", \"The imbalanced relationship between stat growth and difficulty is disappointing, but struggling to overcome these odds is nowhere near as frustrating as coping with Crimson Dragon\\'s camera. When you\\'re flying in a simple pattern, it\\'s easy to settle in. The left analog steers your dragon, and the right controls your weapons\\' aim. Free-flying stages, which allow you to control the speed and trajectory of your dragon, turn the standard control scheme on its head by assigning the camera controls to the same stick as movement. It\\'s confusing, not to mention ineffective in the midst of combat when you have to track fast-moving, hard-hitting enemies.\", \\' \\', \"Granted, there are only a few free-flying stages in the game, but erratic paths in standard levels also prove to be problematic. Quite often, you\\'re sent careening around corners, with an unreasonable amount of visual interference, while under fire, without enough time to react to threats. If you submit, you can simply take some damage and move on. If you attempt to kill everything and lose control, you\\'re more likely to be unprepared when the camera finally rights itself.\", \"Fight your way towards the end of the game, and you\\'ll discover stages with greater visual appeal than the initial selection of barren landscapes, and more sound level design, but its too little too late. Crimson Dragon frustrates more than it entertains. Flying your dragon can feel good, but it\\'s only when the game takes a rare breath and slows down that it feels right. The ability to raise dragons is mildly intriguing, but they take forever to evolve into slightly more effective warriors, making the process more of a distraction than a rewarding challenge. It doesn\\'t take long to realize that for all its efforts to be something more, Crimson Dragon misses the mark. It\\'s occasionally sloppy, usually frustrating, and ultimately disappointing.\"]'"
      ]
     },
     "execution_count": 19,
     "metadata": {},
     "output_type": "execute_result"
    }
   ],
   "source": [
    "df.review[1331]"
   ]
  },
  {
   "cell_type": "code",
   "execution_count": 20,
   "metadata": {
    "collapsed": false
   },
   "outputs": [
    {
     "ename": "NameError",
     "evalue": "name 'results' is not defined",
     "output_type": "error",
     "traceback": [
      "\u001b[1;31m---------------------------------------------------------------------------\u001b[0m",
      "\u001b[1;31mNameError\u001b[0m                                 Traceback (most recent call last)",
      "\u001b[1;32m<ipython-input-20-fbd4d015dc10>\u001b[0m in \u001b[0;36m<module>\u001b[1;34m()\u001b[0m\n\u001b[1;32m----> 1\u001b[1;33m \u001b[0mresults\u001b[0m\u001b[1;33m.\u001b[0m\u001b[0mmean\u001b[0m\u001b[1;33m(\u001b[0m\u001b[1;33m)\u001b[0m\u001b[1;33m\u001b[0m\u001b[0m\n\u001b[0m",
      "\u001b[1;31mNameError\u001b[0m: name 'results' is not defined"
     ]
    }
   ],
   "source": [
    "results"
   ]
  }
 ],
 "metadata": {
  "kernelspec": {
   "display_name": "Python 2",
   "language": "python",
   "name": "python2"
  },
  "language_info": {
   "codemirror_mode": {
    "name": "ipython",
    "version": 2
   },
   "file_extension": ".py",
   "mimetype": "text/x-python",
   "name": "python",
   "nbconvert_exporter": "python",
   "pygments_lexer": "ipython2",
   "version": "2.7.9"
  }
 },
 "nbformat": 4,
 "nbformat_minor": 0
}
