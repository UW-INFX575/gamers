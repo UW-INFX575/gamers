{
 "cells": [
  {
   "cell_type": "code",
   "execution_count": 1,
   "metadata": {
    "collapsed": true
   },
   "outputs": [],
   "source": [
    "import pandas as pd"
   ]
  },
  {
   "cell_type": "code",
   "execution_count": 60,
   "metadata": {
    "collapsed": true
   },
   "outputs": [],
   "source": [
    "# import Giant Bomb\n",
    "gb = pd.read_csv(\"giantbomb/giantbomb_reviews.csv\")"
   ]
  },
  {
   "cell_type": "code",
   "execution_count": 5,
   "metadata": {
    "collapsed": false
   },
   "outputs": [],
   "source": [
    "# import IGN\n",
    "colHeader = ['game','date','reviewer','link','review']\n",
    "IGN = pd.read_csv('IGN_1.csv', names = colHeader)\n",
    "IGN['site'] = 'IGN'"
   ]
  },
  {
   "cell_type": "code",
   "execution_count": 36,
   "metadata": {
    "collapsed": false
   },
   "outputs": [
    {
     "data": {
      "text/html": [
       "<div style=\"max-height:1000px;max-width:1500px;overflow:auto;\">\n",
       "<table border=\"1\" class=\"dataframe\">\n",
       "  <thead>\n",
       "    <tr style=\"text-align: right;\">\n",
       "      <th></th>\n",
       "      <th>reviewer</th>\n",
       "      <th>date</th>\n",
       "      <th>game</th>\n",
       "      <th>link</th>\n",
       "      <th>review</th>\n",
       "      <th>site</th>\n",
       "    </tr>\n",
       "  </thead>\n",
       "  <tbody>\n",
       "    <tr>\n",
       "      <th>0</th>\n",
       "      <td>Justin Clark</td>\n",
       "      <td>8-May-15</td>\n",
       "      <td>Kerbal Space Program Review - GameSpot</td>\n",
       "      <td>http://www.gamespot.com/reviews/kerbal-space-p...</td>\n",
       "      <td>['Two astronauts are dead. And they represent ...</td>\n",
       "      <td>GameSpot</td>\n",
       "    </tr>\n",
       "    <tr>\n",
       "      <th>1</th>\n",
       "      <td>Brett Todd</td>\n",
       "      <td>8-May-15</td>\n",
       "      <td>Vertiginous Golf Review - GameSpot</td>\n",
       "      <td>http://www.gamespot.com/reviews/vertiginous-go...</td>\n",
       "      <td>[\"Build your vocabulary and your putting skill...</td>\n",
       "      <td>GameSpot</td>\n",
       "    </tr>\n",
       "    <tr>\n",
       "      <th>2</th>\n",
       "      <td>Britton Peele</td>\n",
       "      <td>8-May-15</td>\n",
       "      <td>Lost Orbit Review - GameSpot</td>\n",
       "      <td>http://www.gamespot.com/reviews/lost-orbit-rev...</td>\n",
       "      <td>['Youd think that being alone and adrift in ou...</td>\n",
       "      <td>GameSpot</td>\n",
       "    </tr>\n",
       "    <tr>\n",
       "      <th>3</th>\n",
       "      <td>Cameron Woolsey</td>\n",
       "      <td>8-May-15</td>\n",
       "      <td>Verdun Review - GameSpot</td>\n",
       "      <td>http://www.gamespot.com/reviews/verdun-review/...</td>\n",
       "      <td>['The Battle of Verdun began in February 1916,...</td>\n",
       "      <td>GameSpot</td>\n",
       "    </tr>\n",
       "    <tr>\n",
       "      <th>4</th>\n",
       "      <td>Justin Haywald</td>\n",
       "      <td>7-May-15</td>\n",
       "      <td>BOXBOY! Review - GameSpot</td>\n",
       "      <td>http://www.gamespot.com/reviews/boxboy-review/...</td>\n",
       "      <td>[\"BoxBoy! is a game that subverts your expecta...</td>\n",
       "      <td>GameSpot</td>\n",
       "    </tr>\n",
       "  </tbody>\n",
       "</table>\n",
       "</div>"
      ],
      "text/plain": [
       "          reviewer      date                                    game  \\\n",
       "0     Justin Clark  8-May-15  Kerbal Space Program Review - GameSpot   \n",
       "1       Brett Todd  8-May-15      Vertiginous Golf Review - GameSpot   \n",
       "2    Britton Peele  8-May-15            Lost Orbit Review - GameSpot   \n",
       "3  Cameron Woolsey  8-May-15                Verdun Review - GameSpot   \n",
       "4   Justin Haywald  7-May-15               BOXBOY! Review - GameSpot   \n",
       "\n",
       "                                                link  \\\n",
       "0  http://www.gamespot.com/reviews/kerbal-space-p...   \n",
       "1  http://www.gamespot.com/reviews/vertiginous-go...   \n",
       "2  http://www.gamespot.com/reviews/lost-orbit-rev...   \n",
       "3  http://www.gamespot.com/reviews/verdun-review/...   \n",
       "4  http://www.gamespot.com/reviews/boxboy-review/...   \n",
       "\n",
       "                                              review      site  \n",
       "0  ['Two astronauts are dead. And they represent ...  GameSpot  \n",
       "1  [\"Build your vocabulary and your putting skill...  GameSpot  \n",
       "2  ['Youd think that being alone and adrift in ou...  GameSpot  \n",
       "3  ['The Battle of Verdun began in February 1916,...  GameSpot  \n",
       "4  [\"BoxBoy! is a game that subverts your expecta...  GameSpot  "
      ]
     },
     "execution_count": 36,
     "metadata": {},
     "output_type": "execute_result"
    }
   ],
   "source": [
    "# import Game Spot\n",
    "colHeader2 = ['reviewer', 'date', 'game', 'link', 'review']\n",
    "gamespot = pd.read_csv('gamespot.csv', names = colHeader2)\n",
    "gamespot['site'] = 'GameSpot'"
   ]
  },
  {
   "cell_type": "code",
   "execution_count": 56,
   "metadata": {
    "collapsed": false
   },
   "outputs": [],
   "source": [
    "# convert date columns to datetime\n",
    "gamespot[\"date\"] = pd.to_datetime(gamespot.date, dayfirst=True)\n",
    "IGN[\"date\"] = pd.to_datetime(IGN.date, dayfirst=True)\n",
    "gb[\"date\"] = pd.to_datetime(gb.date, dayfirst=False)"
   ]
  },
  {
   "cell_type": "code",
   "execution_count": 57,
   "metadata": {
    "collapsed": false
   },
   "outputs": [],
   "source": [
    "results = pd.concat([gb, IGN, gamespot], ignore_index=True)"
   ]
  },
  {
   "cell_type": "code",
   "execution_count": 58,
   "metadata": {
    "collapsed": false
   },
   "outputs": [],
   "source": [
    "results.to_csv('results.csv', encoding='utf-8', index=False)"
   ]
  },
  {
   "cell_type": "code",
   "execution_count": 64,
   "metadata": {
    "collapsed": false
   },
   "outputs": [
    {
     "data": {
      "text/plain": [
       "(1361, 9)"
      ]
     },
     "execution_count": 64,
     "metadata": {},
     "output_type": "execute_result"
    }
   ],
   "source": [
    "results.shape"
   ]
  },
  {
   "cell_type": "code",
   "execution_count": 66,
   "metadata": {
    "collapsed": false
   },
   "outputs": [
    {
     "data": {
      "text/plain": [
       "score         3.525038\n",
       "score_100    70.500759\n",
       "dtype: float64"
      ]
     },
     "execution_count": 66,
     "metadata": {},
     "output_type": "execute_result"
    }
   ],
   "source": [
    "results.mean()"
   ]
  }
 ],
 "metadata": {
  "kernelspec": {
   "display_name": "Python 2",
   "language": "python",
   "name": "python2"
  },
  "language_info": {
   "codemirror_mode": {
    "name": "ipython",
    "version": 2
   },
   "file_extension": ".py",
   "mimetype": "text/x-python",
   "name": "python",
   "nbconvert_exporter": "python",
   "pygments_lexer": "ipython2",
   "version": "2.7.9"
  }
 },
 "nbformat": 4,
 "nbformat_minor": 0
}
