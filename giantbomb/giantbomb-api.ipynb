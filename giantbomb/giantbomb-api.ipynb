{
 "cells": [
  {
   "cell_type": "code",
   "execution_count": 105,
   "metadata": {
    "collapsed": false
   },
   "outputs": [],
   "source": [
    "# Import libraries\n",
    "import pandas as pd\n",
    "import numpy as np\n",
    "import matplotlib.pyplot as plt\n",
    "import urllib2\n",
    "import json\n",
    "import argparse\n",
    "import logging\n",
    "import os\n",
    "import io\n",
    "import requests\n",
    "import pandas as pd\n",
    "import key # import api key\n",
    "\n",
    "# make plots show up inline\n",
    "%matplotlib inline "
   ]
  },
  {
   "cell_type": "code",
   "execution_count": 11,
   "metadata": {
    "collapsed": false
   },
   "outputs": [],
   "source": [
    "api_key = key.API_KEY\n",
    "base_url = 'http://www.giantbomb.com/api'"
   ]
  },
  {
   "cell_type": "code",
   "execution_count": 60,
   "metadata": {
    "collapsed": false
   },
   "outputs": [],
   "source": [
    "offset=0\n",
    "payload = {'api_key': api_key, 'format':'json', 'offset':offset, 'limit':1}"
   ]
  },
  {
   "cell_type": "code",
   "execution_count": 110,
   "metadata": {
    "collapsed": false
   },
   "outputs": [],
   "source": [
    "offsets = [0, 101, 201, 301, 401, 501, 601]\n",
    "gb = []\n",
    "for x in offsets:\n",
    "    payload = {'api_key': api_key, 'format':'json', 'offset':x}\n",
    "    results = requests.get(base_url + \"/reviews/\", params=payload).json()['results']\n",
    "    gb.append(results)\n",
    "    # because giantbomb limits us to 100 records at a time,\n",
    "    # save each record as a separate file\n",
    "    with io.open('%s.json' % x, 'w', encoding='utf-8') as f:\n",
    "        f.write(unicode(json.dumps(results, ensure_ascii=False)))"
   ]
  }
 ],
 "metadata": {
  "kernelspec": {
   "display_name": "Python 2",
   "language": "python",
   "name": "python2"
  },
  "language_info": {
   "codemirror_mode": {
    "name": "ipython",
    "version": 2
   },
   "file_extension": ".py",
   "mimetype": "text/x-python",
   "name": "python",
   "nbconvert_exporter": "python",
   "pygments_lexer": "ipython2",
   "version": "2.7.8"
  }
 },
 "nbformat": 4,
 "nbformat_minor": 0
}
