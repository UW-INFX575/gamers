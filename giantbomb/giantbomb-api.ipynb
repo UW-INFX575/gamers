{
 "cells": [
  {
   "cell_type": "code",
   "execution_count": 32,
   "metadata": {
    "collapsed": false
   },
   "outputs": [],
   "source": [
    "# Import libraries\n",
    "import pandas as pd\n",
    "import numpy as np\n",
    "import matplotlib.pyplot as plt\n",
    "import pandas as pd\n",
    "import urllib2, json, argparse\n",
    "import logging, os, io, requests\n",
    "import key # import api key\n",
    "from pprint import pprint\n",
    "from jsonmerge import merge\n",
    "import glob\n",
    "import itertools\n",
    "from bs4 import BeautifulSoup\n",
    "\n",
    "# force utf8 encoding\n",
    "import sys  \n",
    "reload(sys)  \n",
    "sys.setdefaultencoding('utf8')\n",
    "\n",
    "# make plots show up inline\n",
    "%matplotlib inline "
   ]
  },
  {
   "cell_type": "code",
   "execution_count": 2,
   "metadata": {
    "collapsed": false
   },
   "outputs": [],
   "source": [
    "api_key = key.API_KEY\n",
    "base_url = 'http://www.giantbomb.com/api'"
   ]
  },
  {
   "cell_type": "code",
   "execution_count": 3,
   "metadata": {
    "collapsed": false
   },
   "outputs": [],
   "source": [
    "offset=0\n",
    "payload = {'api_key': api_key, 'format':'json', 'offset':offset, 'limit':1}"
   ]
  },
  {
   "cell_type": "code",
   "execution_count": 4,
   "metadata": {
    "collapsed": false
   },
   "outputs": [],
   "source": [
    "offsets = [0, 101, 201, 301, 401, 501, 601]\n",
    "gb = []\n",
    "for x in offsets:\n",
    "    payload = {'api_key': api_key, 'format':'json', 'offset':x}\n",
    "    results = requests.get(base_url + \"/reviews/\", params=payload).json()['results']\n",
    "    gb.append(results)\n",
    "    # because giantbomb limits us to 100 records at a time,\n",
    "    # save each record as a separate file\n",
    "    with io.open('%s.json' % x, 'w', encoding='utf-8') as f:\n",
    "        f.write(unicode(json.dumps(results, ensure_ascii=False)))"
   ]
  },
  {
   "cell_type": "code",
   "execution_count": 33,
   "metadata": {
    "collapsed": false
   },
   "outputs": [],
   "source": [
    "result = []\n",
    "for offset in offsets:\n",
    "    with open(str(offset) + '.json') as data_file:\n",
    "        result.append(json.load(data_file))"
   ]
  },
  {
   "cell_type": "code",
   "execution_count": 34,
   "metadata": {
    "collapsed": true
   },
   "outputs": [],
   "source": [
    "# use itertools to extract double bracketed list\n",
    "merged_list = list(itertools.chain(*result))\n",
    "\n",
    "df = pd.DataFrame(merged_list)"
   ]
  },
  {
   "cell_type": "code",
   "execution_count": 16,
   "metadata": {
    "collapsed": false
   },
   "outputs": [],
   "source": [
    "df.to_csv('giantbomb_reviews.csv', encoding='utf-8')"
   ]
  },
  {
   "cell_type": "code",
   "execution_count": 35,
   "metadata": {
    "collapsed": false
   },
   "outputs": [],
   "source": [
    "with open(\"merged_files.json\", \"wb\") as outfile:\n",
    "     json.dump(merged_list, outfile)"
   ]
  },
  {
   "cell_type": "code",
   "execution_count": 46,
   "metadata": {
    "collapsed": false
   },
   "outputs": [],
   "source": [
    "# strip html from description field\n",
    "for index, row in df.iterrows():\n",
    "    html = row['description']\n",
    "    soup = BeautifulSoup(html)\n",
    "    text = soup.getText()\n",
    "    df['description_strip'][index] = text"
   ]
  },
  {
   "cell_type": "code",
   "execution_count": 97,
   "metadata": {
    "collapsed": false
   },
   "outputs": [],
   "source": [
    "game = df['game']\n",
    "game = game.apply(pd.Series)\n",
    "game.drop('api_detail_url', axis=1, inplace=True)"
   ]
  },
  {
   "cell_type": "code",
   "execution_count": 98,
   "metadata": {
    "collapsed": false
   },
   "outputs": [
    {
     "data": {
      "text/html": [
       "<div style=\"max-height:1000px;max-width:1500px;overflow:auto;\">\n",
       "<table border=\"1\" class=\"dataframe\">\n",
       "  <thead>\n",
       "    <tr style=\"text-align: right;\">\n",
       "      <th></th>\n",
       "      <th>id</th>\n",
       "      <th>name</th>\n",
       "      <th>site_detail_url</th>\n",
       "    </tr>\n",
       "  </thead>\n",
       "  <tbody>\n",
       "    <tr>\n",
       "      <th>0</th>\n",
       "      <td>20462</td>\n",
       "      <td>SingStar</td>\n",
       "      <td>http://www.giantbomb.com/singstar/3030-20462/</td>\n",
       "    </tr>\n",
       "    <tr>\n",
       "      <th>1</th>\n",
       "      <td>20455</td>\n",
       "      <td>Haze</td>\n",
       "      <td>http://www.giantbomb.com/haze/3030-20455/</td>\n",
       "    </tr>\n",
       "    <tr>\n",
       "      <th>2</th>\n",
       "      <td>20669</td>\n",
       "      <td>Metal Gear Solid 4: Guns of the Patriots</td>\n",
       "      <td>http://www.giantbomb.com/metal-gear-solid-4-gu...</td>\n",
       "    </tr>\n",
       "    <tr>\n",
       "      <th>3</th>\n",
       "      <td>20681</td>\n",
       "      <td>Poker Smash</td>\n",
       "      <td>http://www.giantbomb.com/poker-smash/3030-20681/</td>\n",
       "    </tr>\n",
       "    <tr>\n",
       "      <th>4</th>\n",
       "      <td>20655</td>\n",
       "      <td>Battlefield: Bad Company</td>\n",
       "      <td>http://www.giantbomb.com/battlefield-bad-compa...</td>\n",
       "    </tr>\n",
       "  </tbody>\n",
       "</table>\n",
       "</div>"
      ],
      "text/plain": [
       "      id                                      name  \\\n",
       "0  20462                                  SingStar   \n",
       "1  20455                                      Haze   \n",
       "2  20669  Metal Gear Solid 4: Guns of the Patriots   \n",
       "3  20681                               Poker Smash   \n",
       "4  20655                  Battlefield: Bad Company   \n",
       "\n",
       "                                     site_detail_url  \n",
       "0      http://www.giantbomb.com/singstar/3030-20462/  \n",
       "1          http://www.giantbomb.com/haze/3030-20455/  \n",
       "2  http://www.giantbomb.com/metal-gear-solid-4-gu...  \n",
       "3   http://www.giantbomb.com/poker-smash/3030-20681/  \n",
       "4  http://www.giantbomb.com/battlefield-bad-compa...  "
      ]
     },
     "execution_count": 98,
     "metadata": {},
     "output_type": "execute_result"
    }
   ],
   "source": [
    "game.head(5)"
   ]
  },
  {
   "cell_type": "code",
   "execution_count": 132,
   "metadata": {
    "collapsed": false
   },
   "outputs": [],
   "source": [
    "merged = pd.concat([df, game], axis=1)\n",
    "merged['site'] = 'Giant Bomb'"
   ]
  },
  {
   "cell_type": "code",
   "execution_count": 133,
   "metadata": {
    "collapsed": false
   },
   "outputs": [],
   "source": [
    "giantbomb = merged[['name', \n",
    "                      'publish_date',  \n",
    "                      'reviewer',\n",
    "                      'api_detail_url',\n",
    "                      'description_strip',\n",
    "                      'site',\n",
    "                      'platforms',\n",
    "                      'score' \n",
    "                      ]]"
   ]
  },
  {
   "cell_type": "code",
   "execution_count": 134,
   "metadata": {
    "collapsed": false
   },
   "outputs": [],
   "source": [
    "giantbomb.columns = ['game', 'date', 'reviewer', \n",
    "                     'link', 'review', 'site', \n",
    "                     'platforms', 'score']"
   ]
  },
  {
   "cell_type": "code",
   "execution_count": 135,
   "metadata": {
    "collapsed": false
   },
   "outputs": [
    {
     "data": {
      "text/plain": [
       "array([u'Jeff', u'Brad', u'Ryan', u'Vinny', u'Andy', u'Dave', u'Drew',\n",
       "       u'Alex', u'Matt', u'Patrick', u'Dan'], dtype=object)"
      ]
     },
     "execution_count": 135,
     "metadata": {},
     "output_type": "execute_result"
    }
   ],
   "source": [
    "# get names of reivewers\n",
    "pd.Series(giantbomb['reviewer'].values.ravel()).unique()"
   ]
  },
  {
   "cell_type": "code",
   "execution_count": 136,
   "metadata": {
    "collapsed": false
   },
   "outputs": [],
   "source": [
    "# Full names for Reviewers\n",
    "giantbomb.ix[giantbomb.reviewer == \"Jeff\", 'reviewer'] = 'Jeff Gerstmann'\n",
    "giantbomb.ix[giantbomb.reviewer == \"Brad\", 'reviewer'] = 'Brad Shoemaker'\n",
    "giantbomb.ix[giantbomb.reviewer == \"Ryan\", 'reviewer'] = 'Ryan Davis'\n",
    "giantbomb.ix[giantbomb.reviewer == \"Vinny\", 'reviewer'] = 'Vinny Caravella'\n",
    "giantbomb.ix[giantbomb.reviewer == \"Andy\", 'reviewer'] = 'Andy McCurdy'\n",
    "giantbomb.ix[giantbomb.reviewer == \"Dave\", 'reviewer'] = 'Dave Lang'\n",
    "giantbomb.ix[giantbomb.reviewer == \"Drew\", 'reviewer'] = 'Drew Scanlon'\n",
    "giantbomb.ix[giantbomb.reviewer == \"Alex\", 'reviewer'] = 'Alex Navarro'\n",
    "giantbomb.ix[giantbomb.reviewer == \"Matt\", 'reviewer'] = 'Matthew Rorie'\n",
    "giantbomb.ix[giantbomb.reviewer == \"Patrick\", 'reviewer'] = 'Patrick Klepek'\n",
    "giantbomb.ix[giantbomb.reviewer == \"Dan\", 'reviewer'] = 'Dan Ryckert'"
   ]
  },
  {
   "cell_type": "code",
   "execution_count": 137,
   "metadata": {
    "collapsed": true
   },
   "outputs": [],
   "source": [
    "giantbomb['score_100'] = giantbomb['score']*20"
   ]
  },
  {
   "cell_type": "code",
   "execution_count": 138,
   "metadata": {
    "collapsed": false
   },
   "outputs": [
    {
     "data": {
      "text/plain": [
       "0       80\n",
       "1       40\n",
       "2      100\n",
       "3       80\n",
       "4      100\n",
       "5       60\n",
       "6       60\n",
       "7      100\n",
       "8      100\n",
       "9       80\n",
       "10      60\n",
       "11      40\n",
       "12      80\n",
       "13      80\n",
       "14     100\n",
       "15      40\n",
       "16      60\n",
       "17      60\n",
       "18      40\n",
       "19      80\n",
       "20      40\n",
       "21      40\n",
       "22      40\n",
       "23      60\n",
       "24     100\n",
       "25      60\n",
       "26      40\n",
       "27      80\n",
       "28      60\n",
       "29      80\n",
       "      ... \n",
       "629     60\n",
       "630     60\n",
       "631     80\n",
       "632     60\n",
       "633    100\n",
       "634     80\n",
       "635     80\n",
       "636     80\n",
       "637     40\n",
       "638    100\n",
       "639     60\n",
       "640     40\n",
       "641     80\n",
       "642     80\n",
       "643     60\n",
       "644     40\n",
       "645     40\n",
       "646     80\n",
       "647     80\n",
       "648     40\n",
       "649     80\n",
       "650     60\n",
       "651     80\n",
       "652     60\n",
       "653     40\n",
       "654     40\n",
       "655     60\n",
       "656     60\n",
       "657    100\n",
       "658     80\n",
       "Name: score_100, dtype: int64"
      ]
     },
     "execution_count": 138,
     "metadata": {},
     "output_type": "execute_result"
    }
   ],
   "source": [
    "giantbomb['score_100']"
   ]
  },
  {
   "cell_type": "code",
   "execution_count": 140,
   "metadata": {
    "collapsed": false
   },
   "outputs": [],
   "source": [
    "giantbomb.to_csv('giantbomb_reviews.csv', encoding='utf-8', index=False)"
   ]
  },
  {
   "cell_type": "code",
   "execution_count": null,
   "metadata": {
    "collapsed": true
   },
   "outputs": [],
   "source": []
  }
 ],
 "metadata": {
  "kernelspec": {
   "display_name": "Python 2",
   "language": "python",
   "name": "python2"
  },
  "language_info": {
   "codemirror_mode": {
    "name": "ipython",
    "version": 2
   },
   "file_extension": ".py",
   "mimetype": "text/x-python",
   "name": "python",
   "nbconvert_exporter": "python",
   "pygments_lexer": "ipython2",
   "version": "2.7.9"
  }
 },
 "nbformat": 4,
 "nbformat_minor": 0
}
